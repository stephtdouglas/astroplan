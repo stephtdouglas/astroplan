{
 "cells": [
  {
   "cell_type": "code",
   "execution_count": null,
   "metadata": {
    "collapsed": true
   },
   "outputs": [],
   "source": [
    "import numpy as np\n",
    "\n",
    "%matplotlib inline\n",
    "from matplotlib import pyplot as plt"
   ]
  },
  {
   "cell_type": "code",
   "execution_count": null,
   "metadata": {
    "collapsed": false
   },
   "outputs": [],
   "source": [
    "from astropy import units as u\n",
    "from astropy.coordinates import SkyCoord\n",
    "from astropy.time import Time\n",
    "\n",
    "import pytz\n",
    "\n",
    "import astroplan\n",
    "from astroplan import Observer, FixedTarget, ObservingBlock, SequentialScheduler, Transitioner\n",
    "\n",
    "from astroplan import plots\n",
    "color_cycle = plots.mplstyles.astropy_mpl_style['axes.color_cycle']"
   ]
  },
  {
   "cell_type": "code",
   "execution_count": null,
   "metadata": {
    "collapsed": false
   },
   "outputs": [],
   "source": [
    "pal = Observer.at_site('Palomar', timezone=pytz.timezone('US/Pacific'))\n",
    "pal"
   ]
  },
  {
   "cell_type": "code",
   "execution_count": null,
   "metadata": {
    "collapsed": false
   },
   "outputs": [],
   "source": [
    "midnight = pal.midnight(Time('2015-11-03 5:00'))\n",
    "midnight"
   ]
  },
  {
   "cell_type": "code",
   "execution_count": null,
   "metadata": {
    "collapsed": false
   },
   "outputs": [],
   "source": [
    "targets = [FixedTarget.from_name('Vega'),\n",
    "           FixedTarget.from_name('Deneb'),\n",
    "           FixedTarget.from_name('Altair'),\n",
    "           FixedTarget.from_name('Albireo')]\n",
    "targets"
   ]
  },
  {
   "cell_type": "code",
   "execution_count": null,
   "metadata": {
    "collapsed": false
   },
   "outputs": [],
   "source": [
    "t1 = pal.twilight_evening_astronomical(midnight)\n",
    "ts = t1 + [0, 1, 2, 3]*u.hour\n",
    "for target, c in zip(targets, color_cycle):\n",
    "    plots.plot_sky(target, pal, ts, style_kwargs=dict(color=c))\n",
    "plt.plot(np.linspace(0,2*np.pi,100), [np.degrees(np.arccos(1/2))]*100, color='r')\n",
    "plt.plot(np.linspace(0,2*np.pi,100), [np.degrees(np.arccos(1/3))]*100, color='r')\n",
    "plt.legend(loc='upper left')"
   ]
  },
  {
   "cell_type": "code",
   "execution_count": null,
   "metadata": {
    "collapsed": false
   },
   "outputs": [],
   "source": [
    "etime = 5*u.min\n",
    "n = 10\n",
    "rot = 55*u.second\n",
    "\n",
    "blocks = [ObservingBlock.from_exposures(t, etime, n, rot) for t in targets]"
   ]
  },
  {
   "cell_type": "code",
   "execution_count": null,
   "metadata": {
    "collapsed": false
   },
   "outputs": [],
   "source": [
    "blocks"
   ]
  },
  {
   "cell_type": "code",
   "execution_count": null,
   "metadata": {
    "collapsed": false
   },
   "outputs": [],
   "source": [
    "constraints = [astroplan.constraints.AirmassConstraint(3, boolean_constraint=False),\n",
    "               astroplan.constraints.AtNightConstraint(18*u.deg)\n",
    "               #,astroplan.constraints.MoonSeparationConstraint(5*u.deg)\n",
    "               ]\n",
    "trans = Transitioner(slew_rate=1*u.deg/u.second)"
   ]
  },
  {
   "cell_type": "code",
   "execution_count": null,
   "metadata": {
    "collapsed": false
   },
   "outputs": [],
   "source": [
    "start_time = pal.twilight_evening_astronomical(midnight)\n",
    "end_time = pal.twilight_morning_astronomical(midnight)\n",
    "scheduler = SequentialScheduler(start_time, end_time,\n",
    "                                constraints=constraints, observer=pal,\n",
    "                                transitioner=trans)\n",
    "schedule = scheduler(blocks)\n",
    "for block in schedule:\n",
    "    local_start = pal.astropy_time_to_datetime(block.start_time)\n",
    "    if hasattr(block, 'target'):\n",
    "        print(block.target.name, 'starting @', local_start, 'lasting', block.duration)\n",
    "    else:\n",
    "        print('trans starting @', local_start, 'lasting', block.duration, ':', block.components)"
   ]
  },
  {
   "cell_type": "code",
   "execution_count": null,
   "metadata": {
    "collapsed": false
   },
   "outputs": [],
   "source": [
    "[b.constraints_value if hasattr(b, 'constraints_value') else None for b in schedule]"
   ]
  },
  {
   "cell_type": "code",
   "execution_count": 10,
   "metadata": {
    "collapsed": true
   },
   "outputs": [],
   "source": [
    "c=  constraints[0]"
   ]
  },
  {
   "cell_type": "code",
   "execution_count": 13,
   "metadata": {
    "collapsed": false
   },
   "outputs": [
    {
     "data": {
      "text/plain": [
       "(4, 5)"
      ]
     },
     "execution_count": 13,
     "metadata": {},
     "output_type": "execute_result"
    }
   ],
   "source": [
    "c(pal, targets, Time.now() + np.linspace(0,3,5)*u.hour).shape"
   ]
  },
  {
   "cell_type": "code",
   "execution_count": null,
   "metadata": {
    "collapsed": false
   },
   "outputs": [],
   "source": [
    "ts = start_time + np.linspace(0, (end_time-start_time).value, 100)*u.day\n",
    "targ_to_color = {}\n",
    "for target, c in zip(targets, color_cycle):\n",
    "    plots.plot_airmass(target, pal, ts, style_kwargs=dict(color=c))\n",
    "    targ_to_color[target.name] = c\n",
    "plt.legend(loc=0)\n",
    "\n",
    "for block in schedule:\n",
    "    if hasattr(block, 'target'):\n",
    "        plt.axvspan(block.start_time.plot_date, block.end_time.plot_date, \n",
    "                    fc=targ_to_color[block.target.name], lw=0, alpha=.2)\n",
    "ax=plt.gca()"
   ]
  }
 ],
 "metadata": {
  "kernelspec": {
   "display_name": "Python 3",
   "language": "python",
   "name": "python3"
  },
  "language_info": {
   "codemirror_mode": {
    "name": "ipython",
    "version": 3
   },
   "file_extension": ".py",
   "mimetype": "text/x-python",
   "name": "python",
   "nbconvert_exporter": "python",
   "pygments_lexer": "ipython3",
   "version": "3.4.3"
  }
 },
 "nbformat": 4,
 "nbformat_minor": 0
}
